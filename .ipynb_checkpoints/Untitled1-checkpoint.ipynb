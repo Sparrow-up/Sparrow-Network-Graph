{
 "cells": [
  {
   "cell_type": "code",
   "execution_count": 1,
   "id": "9bab8458",
   "metadata": {},
   "outputs": [
    {
     "data": {
      "application/vnd.jupyter.widget-view+json": {
       "model_id": "81695bc8aaa949d69739639a5dc01121",
       "version_major": 2,
       "version_minor": 0
      },
      "text/plain": [
       "Sigma(nx.Graph with 1,849 nodes and 2,596 edges)"
      ]
     },
     "metadata": {},
     "output_type": "display_data"
    }
   ],
   "source": [
    "import json\n",
    "from ipysigma import Sigma\n",
    "from IPython.display import display\n",
    "import networkx as nx\n",
    "\n",
    "# Load JSON data\n",
    "with open('activities2.json', 'r') as file:\n",
    "    json_data = json.load(file)\n",
    "\n",
    "# Create a NetworkX graph from the JSON data\n",
    "G = nx.Graph()\n",
    "nodes = json_data.get(\"nodes\", [])\n",
    "links = json_data.get(\"links\", [])\n",
    "\n",
    "# Add nodes to the graph\n",
    "for node in nodes:\n",
    "    G.add_node(node['id'], size=node['size'], type=node['type'])\n",
    "\n",
    "# Add edges to the graph\n",
    "for link in links:\n",
    "    G.add_edge(link['source'], link['target'])\n",
    "\n",
    "# Create the Sigma widget with the NetworkX graph\n",
    "sigma = Sigma(graph=G)\n",
    "\n",
    "# Display the Sigma widget\n",
    "display(sigma)"
   ]
  },
  {
   "cell_type": "code",
   "execution_count": null,
   "id": "167738b3",
   "metadata": {},
   "outputs": [],
   "source": []
  }
 ],
 "metadata": {
  "kernelspec": {
   "display_name": "Python 3 (ipykernel)",
   "language": "python",
   "name": "python3"
  },
  "language_info": {
   "codemirror_mode": {
    "name": "ipython",
    "version": 3
   },
   "file_extension": ".py",
   "mimetype": "text/x-python",
   "name": "python",
   "nbconvert_exporter": "python",
   "pygments_lexer": "ipython3",
   "version": "3.8.18"
  }
 },
 "nbformat": 4,
 "nbformat_minor": 5
}
