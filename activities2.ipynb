{
 "cells": [
  {
   "cell_type": "code",
   "execution_count": 1,
   "id": "1272f8e2",
   "metadata": {},
   "outputs": [],
   "source": [
    "import json"
   ]
  },
  {
   "cell_type": "code",
   "execution_count": 2,
   "id": "a2a7e85a",
   "metadata": {},
   "outputs": [],
   "source": [
    "# Read data from activities2.json\n",
    "with open('activities2.json', 'r') as f:\n",
    "    data = json.load(f)\n",
    "\n",
    "# Access the 'nodes' array\n",
    "nodes = data['nodes']\n",
    "\n",
    "# Divide each 'size' value by 2\n",
    "for node in nodes:\n",
    "    node['size'] = node['size'] / 2\n",
    "\n",
    "# Write the modified data back to activities2.json\n",
    "with open('activities2.json', 'w') as f:\n",
    "    json.dump(data, f, indent=4)"
   ]
  },
  {
   "cell_type": "code",
   "execution_count": 3,
   "id": "f2045915",
   "metadata": {},
   "outputs": [],
   "source": [
    "# Read data from activities2.json\n",
    "with open('activities2.json', 'r') as f:\n",
    "    data = json.load(f)\n",
    "\n",
    "# Access the 'nodes' array\n",
    "nodes = data['nodes']\n",
    "\n",
    "# Divide each 'size' value by 2\n",
    "for node in nodes:\n",
    "    node['size'] = node['size'] * 2\n",
    "\n",
    "# Write the modified data back to activities2.json\n",
    "with open('activities2.json', 'w') as f:\n",
    "    json.dump(data, f, indent=4)"
   ]
  },
  {
   "cell_type": "code",
   "execution_count": 4,
   "id": "cd5c1269",
   "metadata": {},
   "outputs": [],
   "source": [
    "# Read data from activities2.json\n",
    "with open('activities2.json', 'r') as f:\n",
    "    data = json.load(f)\n",
    "\n",
    "# Access the 'nodes' array\n",
    "nodes = data['nodes']\n",
    "\n",
    "# Divide each 'size' value by 2\n",
    "for node in nodes:\n",
    "    node['size'] = node['size'] * 2\n",
    "\n",
    "# Write the modified data back to activities2.json\n",
    "with open('activities2.json', 'w') as f:\n",
    "    json.dump(data, f, indent=4)"
   ]
  },
  {
   "cell_type": "code",
   "execution_count": 5,
   "id": "7253ac84",
   "metadata": {},
   "outputs": [],
   "source": [
    "# Read data from activities2.json\n",
    "with open('activities2.json', 'r') as f:\n",
    "    data = json.load(f)\n",
    "\n",
    "# Access the 'nodes' array\n",
    "nodes = data['nodes']\n",
    "\n",
    "# Divide each 'size' value by 2\n",
    "for node in nodes:\n",
    "    node['size'] = node['size'] * 2\n",
    "\n",
    "# Write the modified data back to activities2.json\n",
    "with open('activities2.json', 'w') as f:\n",
    "    json.dump(data, f, indent=4)"
   ]
  },
  {
   "cell_type": "code",
   "execution_count": 6,
   "id": "423557d9",
   "metadata": {},
   "outputs": [],
   "source": [
    "# Read data from activities2.json\n",
    "with open('activities2.json', 'r') as f:\n",
    "    data = json.load(f)\n",
    "\n",
    "# Access the 'nodes' array\n",
    "nodes = data['nodes']\n",
    "\n",
    "# Divide each 'size' value by 2\n",
    "for node in nodes:\n",
    "    node['size'] = node['size'] * 2\n",
    "\n",
    "# Write the modified data back to activities2.json\n",
    "with open('activities2.json', 'w') as f:\n",
    "    json.dump(data, f, indent=4)"
   ]
  },
  {
   "cell_type": "code",
   "execution_count": 7,
   "id": "359d59d5",
   "metadata": {},
   "outputs": [],
   "source": [
    "# Read data from activities2.json\n",
    "with open('activities2.json', 'r') as f:\n",
    "    data = json.load(f)\n",
    "\n",
    "# Access the 'nodes' array\n",
    "nodes = data['nodes']\n",
    "\n",
    "# Divide each 'size' value by 2\n",
    "for node in nodes:\n",
    "    node['size'] = node['size'] * 2\n",
    "\n",
    "# Write the modified data back to activities2.json\n",
    "with open('activities2.json', 'w') as f:\n",
    "    json.dump(data, f, separators=(',', ':'))"
   ]
  },
  {
   "cell_type": "code",
   "execution_count": 8,
   "id": "352cfdbe",
   "metadata": {},
   "outputs": [],
   "source": [
    "# Read data from activities2.json\n",
    "with open('activities2.json', 'r') as f:\n",
    "    data = json.load(f)\n",
    "\n",
    "# Access the 'nodes' array\n",
    "nodes = data['nodes']\n",
    "\n",
    "# Divide each 'size' value by 2\n",
    "for node in nodes:\n",
    "    node['size'] = node['size'] / 2\n",
    "\n",
    "# Write the modified data back to activities2.json with original formatting\n",
    "with open('activities2.json', 'w') as f:\n",
    "    json.dump(data, f, indent=4)"
   ]
  },
  {
   "cell_type": "code",
   "execution_count": 9,
   "id": "ec2c614d",
   "metadata": {},
   "outputs": [],
   "source": [
    "# Read data from activities2.json\n",
    "with open('activities2.json', 'r') as f:\n",
    "    data = json.load(f)\n",
    "\n",
    "# Access the 'nodes' array\n",
    "nodes = data['nodes']\n",
    "\n",
    "# Divide each 'size' value by 2\n",
    "for node in nodes:\n",
    "    node['size'] = node['size'] / 2\n",
    "\n",
    "# Write the modified data back to activities2.json with original formatting\n",
    "with open('activities2.json', 'w') as f:\n",
    "    json.dump(data, f, indent=4)"
   ]
  },
  {
   "cell_type": "code",
   "execution_count": null,
   "id": "d0eb6c85",
   "metadata": {},
   "outputs": [],
   "source": []
  }
 ],
 "metadata": {
  "kernelspec": {
   "display_name": "Python 3 (ipykernel)",
   "language": "python",
   "name": "python3"
  },
  "language_info": {
   "codemirror_mode": {
    "name": "ipython",
    "version": 3
   },
   "file_extension": ".py",
   "mimetype": "text/x-python",
   "name": "python",
   "nbconvert_exporter": "python",
   "pygments_lexer": "ipython3",
   "version": "3.8.18"
  }
 },
 "nbformat": 4,
 "nbformat_minor": 5
}
